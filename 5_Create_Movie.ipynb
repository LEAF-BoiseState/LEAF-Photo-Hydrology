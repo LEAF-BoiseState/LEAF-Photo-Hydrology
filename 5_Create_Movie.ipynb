{
 "cells": [
  {
   "cell_type": "code",
   "execution_count": 1,
   "id": "2df1ed5d-15ec-4941-b621-acca5e19ec23",
   "metadata": {},
   "outputs": [],
   "source": [
    "import cv2\n",
    "import os\n",
    "import glob\n",
    "from natsort import natsorted\n",
    "\n",
    "image_folder = 'images/'\n",
    "output_file = 'zoe_camtrap_movie.mp4'\n",
    "fps = 10  # Frames per second\n"
   ]
  },
  {
   "cell_type": "code",
   "execution_count": 2,
   "id": "e24d8bf7-fd41-4e47-9604-dbabd5458194",
   "metadata": {},
   "outputs": [],
   "source": [
    "def create_movie(image_folder, output_file, fps=30):\n",
    "    images = glob.glob(os.path.join(image_folder, '*.JPG'))\n",
    "\n",
    "    # Sort the images using natsort to handle the numbers in filenames correctly\n",
    "    images = natsorted(images)\n",
    "\n",
    "    # Determine the width and height from the first image\n",
    "    frame = cv2.imread(images[0])\n",
    "    height, width, channels = frame.shape\n",
    "\n",
    "    # Define the codec and create VideoWriter object\n",
    "    fourcc = cv2.VideoWriter_fourcc(*'mp4v') # or use 'XVID' for an AVI file\n",
    "    out = cv2.VideoWriter(output_file, fourcc, fps, (width, height))\n",
    "\n",
    "    for img in images:\n",
    "        frame = cv2.imread(img)\n",
    "        out.write(frame)  # Write out frame to video\n",
    "\n",
    "    out.release()\n",
    "\n"
   ]
  },
  {
   "cell_type": "code",
   "execution_count": 3,
   "id": "158c9eb3-c721-4f2b-946f-a9cac9f41c02",
   "metadata": {},
   "outputs": [],
   "source": [
    "create_movie(image_folder, output_file, fps)\n"
   ]
  },
  {
   "cell_type": "code",
   "execution_count": null,
   "id": "6fd53501-56b2-4307-bede-a19c9fa68180",
   "metadata": {},
   "outputs": [],
   "source": []
  }
 ],
 "metadata": {
  "kernelspec": {
   "display_name": "Python 3 (ipykernel)",
   "language": "python",
   "name": "python3"
  },
  "language_info": {
   "codemirror_mode": {
    "name": "ipython",
    "version": 3
   },
   "file_extension": ".py",
   "mimetype": "text/x-python",
   "name": "python",
   "nbconvert_exporter": "python",
   "pygments_lexer": "ipython3",
   "version": "3.11.5"
  }
 },
 "nbformat": 4,
 "nbformat_minor": 5
}
