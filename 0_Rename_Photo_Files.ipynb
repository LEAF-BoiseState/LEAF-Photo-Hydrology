{
 "cells": [
  {
   "cell_type": "markdown",
   "id": "a08f1715-c8b2-4d55-8350-23ece9fbadc1",
   "metadata": {},
   "source": [
    "# 0_Rename_Photo_Files\n",
    "\n",
    "The purpose of this notebook is to rename files from the Reconix camera according to the date and time they were taken and put them in a single folder. "
   ]
  },
  {
   "cell_type": "code",
   "execution_count": 1,
   "id": "2c614665-d616-4b8b-bf98-ec236d95df73",
   "metadata": {},
   "outputs": [],
   "source": [
    "import glob\n",
    "import shutil\n",
    "from natsort import natsorted, ns\n",
    "from PIL import Image\n",
    "from PIL.ExifTags import TAGS\n",
    "\n",
    "output_folder = 'images/'\n",
    "output_im_file_base = 'dcew_camtrap_'\n",
    "\n",
    "input_folders_base = '/Users/lejoflores/DCIM/'\n",
    "input_folders = {'10_24_23-10_31_23','10_31_23-12_5_23','12_5_23-3_8_24','3_8_24-3_15_24'}\n"
   ]
  },
  {
   "cell_type": "code",
   "execution_count": 2,
   "id": "96bdb17a-8fa2-4670-869c-220bfe92121b",
   "metadata": {},
   "outputs": [],
   "source": [
    "for input_folder in input_folders:\n",
    "\n",
    "    im_files = glob.glob(input_folders_base+input_folder+'/*.JPG')\n",
    "\n",
    "    for im_file in im_files:\n",
    "        \n",
    "        # Use Pillow Image operator to get the EXIF header data from the image\n",
    "        exifdata = Image.open(im_file).getexif()\n",
    "        \n",
    "        # Get the DateTime tag from the EXIF data\n",
    "        datetime_tag = exifdata.get(306) \n",
    "        \n",
    "        # EXIF DateTime tags are weird in that the date is denoted YYYY:MM:DD\n",
    "        # Numpy nor pandas recognize ':' as a valid delimiter of dates, so use the\n",
    "        # Python string replace operator to replace the first two ':'s with '-'s \n",
    "        datetime_tag = datetime_tag.replace(':','-',2).replace(':','',2).replace(' ','_',1)\n",
    "        datetime_tag = datetime_tag[0:-2]\n",
    "\n",
    "        output_im_filename = output_folder+output_im_file_base+datetime_tag+'.JPG'\n",
    "\n",
    "        shutil.copyfile(im_file, output_im_filename)\n",
    "        \n",
    "        #print(output_im_filename)\n",
    "    "
   ]
  },
  {
   "cell_type": "code",
   "execution_count": null,
   "id": "0325754f-bd52-4e37-956c-24d620f27785",
   "metadata": {},
   "outputs": [],
   "source": [
    "im_files"
   ]
  },
  {
   "cell_type": "code",
   "execution_count": null,
   "id": "246d7794-51ff-4d1e-b4a9-aaeda6c061aa",
   "metadata": {},
   "outputs": [],
   "source": []
  }
 ],
 "metadata": {
  "kernelspec": {
   "display_name": "Python 3 (ipykernel)",
   "language": "python",
   "name": "python3"
  },
  "language_info": {
   "codemirror_mode": {
    "name": "ipython",
    "version": 3
   },
   "file_extension": ".py",
   "mimetype": "text/x-python",
   "name": "python",
   "nbconvert_exporter": "python",
   "pygments_lexer": "ipython3",
   "version": "3.11.5"
  }
 },
 "nbformat": 4,
 "nbformat_minor": 5
}
