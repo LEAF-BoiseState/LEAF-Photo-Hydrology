{
 "cells": [
  {
   "cell_type": "markdown",
   "metadata": {},
   "source": [
    "# Collect Photo Metadata\n",
    "\n",
    "This notebook provides an example of how to extract the date and time information from Reconyx camera traps. This notebook primarily uses the `Pillow` image processing library to extract the [EXIF](https://en.wikipedia.org/wiki/Exif) tags from the JPEG files. It specifically finds tag 306, which is the `DateTime` EXIF tag and parses it into a numpy `datetime64[ns]` object, which can subsequently be used to benchmark photo metrics to specific dates and times and correlate them with other variables. The notebook also uses `natsort` as in [this notebook illustrating working on time series image data](2_Image_Time_Series_Workflow.ipynb), `numpy`, and `os`.\n",
    "\n",
    "### 1. Import Libraries"
   ]
  },
  {
   "cell_type": "code",
   "execution_count": 1,
   "metadata": {},
   "outputs": [],
   "source": [
    "from PIL import Image\n",
    "from PIL.ExifTags import TAGS\n",
    "from natsort import natsorted, ns\n",
    "import numpy as np\n",
    "import os\n",
    "\n",
    "# File name for an example file\n",
    "filename = 'images/RCNX0093.JPG'\n"
   ]
  },
  {
   "cell_type": "markdown",
   "metadata": {},
   "source": [
    "### 2. Extract Example Image Metadata\n",
    "\n",
    "In the examples below, we use the `Pillow` `Image().open().getexif()` function to extract the header from the example JPEG file. We then print the tags and values for all the associated metadata in order to see all metadata written with the images, in case there is some additional potentially useful metadata beyond the `DateTime` tag. "
   ]
  },
  {
   "cell_type": "code",
   "execution_count": 2,
   "metadata": {},
   "outputs": [],
   "source": [
    "exifdata = Image.open(filename).getexif()"
   ]
  },
  {
   "cell_type": "code",
   "execution_count": 3,
   "metadata": {},
   "outputs": [
    {
     "name": "stdout",
     "output_type": "stream",
     "text": [
      "ResolutionUnit: 2\n",
      "ExifOffset: 300\n",
      "Make: RECONYX\n",
      "Model: HYPERFIRE 2 COVERT\u0000\n",
      "DateTime: 2023:11:02 17:00:00\n",
      "YCbCrPositioning: 2\n",
      "XResolution: 72.0\n",
      "YResolution: 72.0\n"
     ]
    }
   ],
   "source": [
    "# iterating over all EXIF data fields to see what is in the metadata\n",
    "for tag, value in exifdata.items():\n",
    "    print(TAGS.get(tag)+': '+str(value))"
   ]
  },
  {
   "cell_type": "markdown",
   "metadata": {},
   "source": [
    "#### 2a. How to Get `DateTime` Reliably\n",
    "\n",
    "The EXIF standard provides a controlled vocabulary for how metadata is stored in photographs. As such, it provides a reliable and predictable way that the date and time that a photo is taken will be recorded and stored in the photo metadata. In this case, the tag we are interested in getting the __*value*__ associated with the __*key*__ `DateTime`. In this case the __*key*__ `DateTime` is associated with the decimal number 306 (see [EXIF standards](https://exiv2.org/tags.html)). So when we use the `.get()` function and pass the decimal number 306, the `Pillow` ExifTags function returns the associated value for this photograph. "
   ]
  },
  {
   "cell_type": "code",
   "execution_count": 4,
   "metadata": {},
   "outputs": [
    {
     "data": {
      "text/plain": [
       "'2023:11:02 17:00:00'"
      ]
     },
     "execution_count": 4,
     "metadata": {},
     "output_type": "execute_result"
    }
   ],
   "source": [
    "exifdata.get(306)"
   ]
  },
  {
   "cell_type": "markdown",
   "metadata": {},
   "source": [
    "### 3. Repeat for a List of Images\n",
    "\n",
    "Now we want to perform the same set of actions on a whole list of images that are sequential. \n",
    "\n",
    "#### 3a. Get the List of Images"
   ]
  },
  {
   "cell_type": "code",
   "execution_count": 5,
   "metadata": {},
   "outputs": [],
   "source": [
    "# Get the file names as a Python list using os\n",
    "file_list = os.listdir('images/')\n",
    "\n",
    "# Sort this list 'naturally': that is, sequential by file name\n",
    "file_list = natsorted(file_list)\n",
    "\n",
    "# Store the length of the list of file names (i.e., how many files there are)\n",
    "n_images = len(file_list)"
   ]
  },
  {
   "cell_type": "code",
   "execution_count": 6,
   "metadata": {},
   "outputs": [],
   "source": [
    "# Create an empty array to store datetime tags for all images\n",
    "image_datetime = np.empty(n_images, dtype='datetime64[s]')\n",
    "\n",
    "# We need this to increment our counter \n",
    "counter = 0\n",
    "\n",
    "for file in file_list:\n",
    "    \n",
    "    # Use Pillow Image operator to get the EXIF header data from the image\n",
    "    exifdata = Image.open('images/'+file).getexif()\n",
    "    \n",
    "    # Get the DateTime tag from the EXIF data\n",
    "    datetime_tag = exifdata.get(306) \n",
    "    \n",
    "    # EXIF DateTime tags are weird in that the date is denoted YYYY:MM:DD\n",
    "    # Numpy nor pandas recognize ':' as a valid delimiter of dates, so use the\n",
    "    # Python string replace operator to replace the first two ':'s with '-'s \n",
    "    datetime_tag = datetime_tag.replace(':','-',2)\n",
    "    \n",
    "    # Convert the datetime_tag from a string to a datetime64 object\n",
    "    this_image_datetime = np.datetime64(datetime_tag)\n",
    "    \n",
    "    # Store the datetime object for this image into the array for all images\n",
    "    image_datetime[counter] = this_image_datetime\n",
    "    \n",
    "    counter += 1"
   ]
  },
  {
   "cell_type": "code",
   "execution_count": 7,
   "metadata": {},
   "outputs": [
    {
     "data": {
      "text/plain": [
       "array(['2023-11-02T17:00:00', '2023-11-02T17:15:00',\n",
       "       '2023-11-02T17:30:00', '2023-11-02T17:45:00',\n",
       "       '2023-11-03T08:45:00', '2023-11-03T09:15:00',\n",
       "       '2023-11-03T09:30:00', '2023-11-03T09:45:00',\n",
       "       '2023-11-06T15:15:00', '2023-11-06T15:30:00',\n",
       "       '2023-11-06T15:45:00', '2023-11-06T16:00:00',\n",
       "       '2023-11-06T16:15:00', '2023-11-06T16:30:00',\n",
       "       '2023-11-06T16:45:00', '2023-11-06T17:00:00',\n",
       "       '2023-11-06T17:15:00', '2023-11-07T08:00:00',\n",
       "       '2023-11-07T08:15:00', '2023-11-07T08:30:00',\n",
       "       '2023-11-07T08:45:00', '2023-11-07T09:00:00',\n",
       "       '2023-11-07T09:15:00', '2023-11-07T09:30:00',\n",
       "       '2023-11-07T09:45:00', '2023-11-07T10:00:00',\n",
       "       '2023-11-07T10:15:00', '2023-11-18T16:30:00',\n",
       "       '2023-11-18T16:45:00', '2023-11-18T17:00:00',\n",
       "       '2023-11-19T08:45:00', '2023-11-19T09:00:00',\n",
       "       '2023-11-19T09:15:00', '2023-11-19T09:30:00',\n",
       "       '2023-11-19T09:45:00', '2023-11-19T10:00:00',\n",
       "       '2023-11-19T10:15:00', '2023-11-19T10:30:00',\n",
       "       '2023-11-19T10:45:00', '2023-11-19T11:00:00',\n",
       "       '2023-11-19T11:15:00', '2023-11-19T11:30:00',\n",
       "       '2023-11-19T11:45:00', '2023-11-19T12:00:00',\n",
       "       '2023-11-19T12:15:00', '2023-11-19T12:30:00',\n",
       "       '2023-11-19T12:45:00', '2023-11-19T13:00:00',\n",
       "       '2023-11-19T13:15:00', '2023-11-19T13:30:00',\n",
       "       '2023-11-19T13:45:00', '2023-11-19T14:00:00',\n",
       "       '2023-11-19T14:15:00', '2023-11-19T14:30:00',\n",
       "       '2023-11-19T14:45:00', '2023-11-19T15:00:00',\n",
       "       '2023-11-19T15:15:00', '2023-11-19T15:30:00',\n",
       "       '2023-11-19T15:45:00', '2023-11-19T16:00:00',\n",
       "       '2023-11-19T16:15:00', '2023-11-19T16:30:00',\n",
       "       '2023-11-19T16:45:00', '2023-11-19T17:00:00',\n",
       "       '2023-11-20T08:00:00', '2023-11-20T08:15:00',\n",
       "       '2023-12-03T12:45:00', '2023-12-03T13:00:00',\n",
       "       '2023-12-03T13:15:00', '2023-12-03T13:30:00',\n",
       "       '2023-12-03T13:45:00', '2023-12-03T14:00:00',\n",
       "       '2023-12-03T14:15:00', '2023-12-03T14:30:00',\n",
       "       '2023-12-03T14:45:00', '2023-12-03T15:00:00',\n",
       "       '2023-12-03T15:15:00', '2023-12-03T15:30:00',\n",
       "       '2023-12-03T15:45:00', '2023-12-03T16:00:00',\n",
       "       '2023-12-03T16:15:00', '2023-12-03T16:30:00',\n",
       "       '2023-12-03T16:45:00', '2023-12-04T08:30:00',\n",
       "       '2023-12-04T08:45:00', '2023-12-04T09:00:00',\n",
       "       '2023-12-04T09:15:00'], dtype='datetime64[s]')"
      ]
     },
     "execution_count": 7,
     "metadata": {},
     "output_type": "execute_result"
    }
   ],
   "source": [
    "# Print out the DateTime tags from the photos\n",
    "# NOTE: The set of files I'm using has some gaps and so, while the \n",
    "# timestamps of the photographs below are correct and sequential, there  \n",
    "# are some gaps that appear in the record. These photos exist, but aren't\n",
    "# being use for these prototyping notebooks\n",
    "\n",
    "image_datetime"
   ]
  }
 ],
 "metadata": {
  "kernelspec": {
   "display_name": "Python 3 (ipykernel)",
   "language": "python",
   "name": "python3"
  },
  "language_info": {
   "codemirror_mode": {
    "name": "ipython",
    "version": 3
   },
   "file_extension": ".py",
   "mimetype": "text/x-python",
   "name": "python",
   "nbconvert_exporter": "python",
   "pygments_lexer": "ipython3",
   "version": "3.11.5"
  }
 },
 "nbformat": 4,
 "nbformat_minor": 4
}
